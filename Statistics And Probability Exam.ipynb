{
 "cells": [
  {
   "cell_type": "markdown",
   "id": "92c4b367",
   "metadata": {},
   "source": [
    "# STATISTICS AND PROBABILITY"
   ]
  },
  {
   "cell_type": "markdown",
   "id": "9c646150",
   "metadata": {},
   "source": [
    "# Question 1"
   ]
  },
  {
   "cell_type": "markdown",
   "id": "623e89a9",
   "metadata": {},
   "source": [
    "From a pack of 52 cards 3 cards are drawn randomly without replacement.\n",
    "\n",
    "Probability of getting one card to be Diamond, p(D) = 13/52 \n",
    "Probability of getting one card to be Heart,   p(H) = 13/51 \n",
    "Probability of getting one card to be Spade,   p(S) = 13/50\n",
    "\n",
    "Probability of getting one diamond,one heart,one spade is,   p(A) = p(D) * p(H) * p(S)"
   ]
  },
  {
   "cell_type": "code",
   "execution_count": 1,
   "id": "4e69b7e3",
   "metadata": {},
   "outputs": [
    {
     "name": "stdout",
     "output_type": "stream",
     "text": [
      "Probability of getting one diamond,one heart,one spade is : 0.01656862745098039\n"
     ]
    }
   ],
   "source": [
    "pD=13/52 ## Probability of gettting one diamond card\n",
    "pH=13/51 ## Probability of gettting one heart card\n",
    "pS=13/50 ## Probability of gettting one spade card\n",
    "pA=pD*pH*pS \n",
    "print(\"Probability of getting one diamond,one heart,one spade is :\",pA)"
   ]
  },
  {
   "cell_type": "markdown",
   "id": "8503df8a",
   "metadata": {},
   "source": [
    "# Question 2"
   ]
  },
  {
   "cell_type": "markdown",
   "id": "63bceb9c",
   "metadata": {},
   "source": [
    "Probability of liking Action movies ,p(A) = 42/100\n",
    "probability of liking Comedy movies, p(C) = 54/100\n",
    "Probability of liking Drama movies,  p(D) = 36/100\n",
    "probability of liking Horror movies, p(H) = 12/100\n",
    "\n",
    "a)Probability of liking either Action or Drama, p(AD) = p(A)+p(D)\n",
    "b)Probability of liking either Comedy or Horror, p(CH) = p(C)+p(H)\n"
   ]
  },
  {
   "cell_type": "code",
   "execution_count": 2,
   "id": "700c7739",
   "metadata": {},
   "outputs": [
    {
     "name": "stdout",
     "output_type": "stream",
     "text": [
      "1.Probability of favorite movie type is either action or drama : 0.78\n",
      "1.Probability of favorite movie type is either comedy or horror : 0.66\n"
     ]
    }
   ],
   "source": [
    "pA = 42/100\n",
    "pC = 54/100\n",
    "pD = 36/100\n",
    "pH = 12/100\n",
    "pAD = pA + pD\n",
    "pCH = pC + pH\n",
    "print(\"1.Probability of favorite movie type is either action or drama :\",pAD)\n",
    "print(\"1.Probability of favorite movie type is either comedy or horror :\",pCH)"
   ]
  },
  {
   "cell_type": "markdown",
   "id": "11047d69",
   "metadata": {},
   "source": [
    "# Question 3"
   ]
  },
  {
   "cell_type": "markdown",
   "id": "08901ce4",
   "metadata": {},
   "source": [
    "Bag A contains 3 red balls and 5 black balls\n",
    "Bag B contains 4 white balls and 7 black balls\n",
    "\n",
    "Probability of selecting bag A, p(A) = 1/2\n",
    "probability of selecting bag B, p(B) = 1/2\n",
    "\n",
    "Probability of black ball from bag A, p(b/A) = 5/8\n",
    "Probability of black ball from bag B p(b/B) = 7/11\n",
    "\n",
    "probability that bag B is selected, p(B/b) = p(B) * p(b/B) / ((p(A) * p(b/A) + p(B) * p(b/B))\n",
    "\n",
    "                                            = (1/2 * 7/11) / ((1/2 * 5/8) + (1/2 * 7/11))\n",
    "                                            \n",
    "                                            = (7/22) / (5/16 + 7/22)\n",
    "                                            \n",
    "                                            = 0.504\n",
    "\n",
    "\n",
    "\n"
   ]
  },
  {
   "cell_type": "markdown",
   "id": "0bc68313",
   "metadata": {},
   "source": [
    "# Question 4"
   ]
  },
  {
   "cell_type": "markdown",
   "id": "6ec7a7b5",
   "metadata": {},
   "source": [
    " In 1 hour 450 applications are recieved from applicants\n",
    " \n",
    " a) Recieving 10 applications in 1 minute\n",
    " \n",
    "     lambda = 450/60\n",
    "     \n",
    "     lambda = 15/12 for x=10\n",
    "     \n",
    "              e**(-15/2) . (15/2)**10\n",
    "     p(X=x) = --------------------------\n",
    "                        10!\n",
    "              = 0.0858\n",
    "           \n",
    "  b)Recieving atleast 17 applications in 2 minutes\n",
    "   \n",
    "   \n",
    "   \n",
    "             e**(-15/2) . (15/2)**17\n",
    "     p(X=x) = --------------------------\n",
    "                        17!\n",
    "        \n",
    "             =  0.6321\n",
    "                       \n",
    "            "
   ]
  },
  {
   "cell_type": "markdown",
   "id": "47413627",
   "metadata": {},
   "source": [
    "# Question 5"
   ]
  },
  {
   "cell_type": "markdown",
   "id": "4837128c",
   "metadata": {},
   "source": [
    "a.) In every year, there can be at most one patient who needs medical insurance in a family.. b.) Likewise., In every year, the probability of a medical emergency is 0.05 c.) The number of patients in every years period in one family..\n",
    "\n",
    "3 patients in 10 years in one fam..\n",
    "\n",
    "Fewer than 3 patients s means all the cases where you don’t get 3 patients… If the cases where you get 3 patients is T% then the cases when you don’t get 3 patients is: 100% - T%\n",
    "\n",
    "P(3 patients) = P(patients)^3 = 1/8 → T% = 12.5% → %(fewer than 3 patients) = 87.5%\n",
    "\n",
    "In general, even in case you have more than 3 patients, then:\n",
    "\n",
    "P(“fewer than 3 patients”) = P(0 patients) + P(1 patient) + P(2 patients)"
   ]
  },
  {
   "cell_type": "markdown",
   "id": "3b79a856",
   "metadata": {},
   "source": [
    "# Question 6"
   ]
  },
  {
   "cell_type": "markdown",
   "id": "ecea5afa",
   "metadata": {},
   "source": [
    "Average = 350870\n",
    "standard deviation = 12405\n",
    "\n",
    "  z =( x-µ )/σ\n",
    "  \n",
    "  0.675 = (x-350870)/12405\n",
    "  \n",
    "  x= 350870 + (0.675 * 12405)\n",
    "  \n",
    "  x=359237.045\n",
    "  \n",
    "  For 75th percentile of prices = 359237.045"
   ]
  },
  {
   "cell_type": "markdown",
   "id": "b3178c60",
   "metadata": {},
   "source": [
    "# Question 7"
   ]
  },
  {
   "cell_type": "code",
   "execution_count": 3,
   "id": "2618af2b",
   "metadata": {},
   "outputs": [
    {
     "name": "stdout",
     "output_type": "stream",
     "text": [
      "Value of F-STATISTIC is  : 0.9921235138705414\n"
     ]
    }
   ],
   "source": [
    "import numpy as np\n",
    "\n",
    "Union_City=[44,21,36,34,77,32,29,39,92,67,45,37]\n",
    "Mountain_View=[47,81,41,79,38,20,33,83,41,40,69,36]\n",
    "\n",
    "x = np.array(Union_City)\n",
    "y = np.array(Mountain_View)\n",
    "f = np.var(x, ddof=1)/np.var(y, ddof=1)\n",
    "print(\"Value of F-STATISTIC is  :\",f)"
   ]
  },
  {
   "cell_type": "markdown",
   "id": "d9459f87",
   "metadata": {},
   "source": [
    "# Question 8"
   ]
  },
  {
   "cell_type": "code",
   "execution_count": 4,
   "id": "1b8306e1",
   "metadata": {},
   "outputs": [
    {
     "name": "stdout",
     "output_type": "stream",
     "text": [
      "F-statistics: 1.6944444444444444\n"
     ]
    }
   ],
   "source": [
    "import numpy as np\n",
    "import scipy.stats\n",
    "\n",
    "mean = [44.5,42,46.5]\n",
    "std_dev = [5,5,8]\n",
    "\n",
    "def f_test(x, y):\n",
    "    x = np.array(x)\n",
    "    y = np.array(y)\n",
    "    f = np.var(x, ddof=1)/np.var(y, ddof=1)\n",
    "    dfn = x.size-1 \n",
    "    dfd = y.size-1 \n",
    "    p = 1-scipy.stats.f.cdf(f, dfn, dfd) \n",
    "    return f, p\n",
    "\n",
    "f,p = f_test(mean, std_dev)\n",
    "\n",
    "print('F-statistics:',f)"
   ]
  },
  {
   "cell_type": "markdown",
   "id": "ce531d14",
   "metadata": {},
   "source": [
    "# Question 9"
   ]
  },
  {
   "cell_type": "code",
   "execution_count": 5,
   "id": "f99dd8a6",
   "metadata": {},
   "outputs": [
    {
     "name": "stdout",
     "output_type": "stream",
     "text": [
      "0.040177141568228006\n"
     ]
    }
   ],
   "source": [
    "from scipy.stats import poisson\n",
    "prob = poisson.pmf(k=80,mu=76)\n",
    "print(prob)"
   ]
  },
  {
   "cell_type": "markdown",
   "id": "30cce585",
   "metadata": {},
   "source": [
    "# Question 10"
   ]
  },
  {
   "cell_type": "code",
   "execution_count": 6,
   "id": "193d8bc2",
   "metadata": {},
   "outputs": [
    {
     "name": "stdout",
     "output_type": "stream",
     "text": [
      "Yes, protein supplier affect diet\n"
     ]
    }
   ],
   "source": [
    "before = [82 for j in range(25)]\n",
    "after = [95 for i in range(25)]\n",
    "from scipy.stats import ttest_ind\n",
    "\n",
    "if ttest_ind(before,after)[-1] <= 0.05 :\n",
    "    print('Yes, protein supplier affect diet')\n",
    "else:\n",
    "    print('No, protein supplier did not affect diet')"
   ]
  },
  {
   "cell_type": "markdown",
   "id": "36f2a0c3",
   "metadata": {},
   "source": [
    "# Question 11"
   ]
  },
  {
   "cell_type": "code",
   "execution_count": 7,
   "id": "218987df",
   "metadata": {},
   "outputs": [
    {
     "name": "stdout",
     "output_type": "stream",
     "text": [
      "Ttest_1sampResult(statistic=0.0, pvalue=1.0)\n",
      "\n",
      "Different days of the week have the different frequency of customers\n"
     ]
    }
   ],
   "source": [
    "no_of_customers = [1419,1320,1526,1289,1620,2067,2055]\n",
    "avg = sum(no_of_customers)/len(no_of_customers)\n",
    "from scipy.stats import ttest_1samp\n",
    "test = ttest_1samp(no_of_customers,avg)\n",
    "print(test)\n",
    "print()\n",
    "if test[-1] <= 0.01 :\n",
    "    print('Different days of the week have the same frequency of customers')\n",
    "else:\n",
    "     print('Different days of the week have the different frequency of customers')"
   ]
  },
  {
   "cell_type": "markdown",
   "id": "f442241b",
   "metadata": {},
   "source": [
    "# Question 12"
   ]
  },
  {
   "cell_type": "code",
   "execution_count": 8,
   "id": "e458b9ae",
   "metadata": {},
   "outputs": [
    {
     "name": "stdout",
     "output_type": "stream",
     "text": [
      "            City  No_of_deaths_in_last_month  No_of_deaths_in_current_month\n",
      "0       New York                        3406                           4398\n",
      "1     New Jersey                        1469                           1846\n",
      "2       Michigan                         662                           1288\n",
      "3     California                         583                            382\n",
      "4        Florida                         582                            879\n",
      "5  Massachusetts                         526                            430\n",
      "6          Texas                         461                            321\n",
      "\n",
      "predicted by scientist [4427.8, 1909.7, 860.6, 757.9, 756.6, 683.8, 599.3]\n",
      "\n",
      "actual current death value  [4398, 1846, 1288, 382, 879, 430, 321]\n",
      "\n",
      "difference between predicted and current [ 29.8  63.7 427.4 375.9 122.4 253.8 278.3]\n",
      "\n",
      "signicance of 0.1 [340.6, 146.9, 66.2, 58.3, 58.2, 52.6, 46.1]\n",
      "\n",
      "Ttest_indResult(statistic=-0.08484138410174252, pvalue=0.933786528927488)\n",
      "\n",
      "Not Same as Expert's prediction\n"
     ]
    }
   ],
   "source": [
    "import pandas as pd\n",
    "City = [\"New York\", \"New Jersey\", \"Michigan\", \"California\", \"Florida\", \"Massachusetts\", \"Texas\"]\n",
    "No_of_deaths_in_last_month = [3406, 1469, 662, 583, 582, 526, 461]\n",
    "No_of_deaths_in_current_month = [4398, 1846, 1288, 382, 879, 430, 321]\n",
    "df = pd.DataFrame({\"City\": City, \"No_of_deaths_in_last_month\":No_of_deaths_in_last_month, \"No_of_deaths_in_current_month\": No_of_deaths_in_current_month})\n",
    "print(df)\n",
    "predicted=[]\n",
    "significance=[]\n",
    "for i in No_of_deaths_in_last_month:\n",
    "    predicted.append((0.30*i)+i)\n",
    "    significance.append(round(0.1*i,1))\n",
    "print()    \n",
    "print(\"predicted by scientist\",predicted)\n",
    "print()\n",
    "print(\"actual current death value \",No_of_deaths_in_current_month)\n",
    "\n",
    "import numpy as np\n",
    "n_predicted=np.array(predicted)\n",
    "n_No_of_deaths_in_current_month=np.array(No_of_deaths_in_current_month)\n",
    "difference=np.absolute(n_No_of_deaths_in_current_month-n_predicted)\n",
    "print()\n",
    "print(\"difference between predicted and current\",difference)\n",
    "print()\n",
    "print(\"signicance of 0.1\",significance)\n",
    "\n",
    "print()\n",
    "\n",
    "from scipy.stats import ttest_ind\n",
    "print(ttest_ind(No_of_deaths_in_current_month,predicted))\n",
    "print()\n",
    "if (ttest_ind(No_of_deaths_in_current_month,predicted)[-1] <=0.01 ):\n",
    "    print(\"Same as Expert's prediction\")\n",
    "else:\n",
    "    print(\"Not Same as Expert's prediction\")"
   ]
  },
  {
   "cell_type": "code",
   "execution_count": null,
   "id": "f40859c5",
   "metadata": {},
   "outputs": [],
   "source": []
  }
 ],
 "metadata": {
  "kernelspec": {
   "display_name": "Python 3 (ipykernel)",
   "language": "python",
   "name": "python3"
  },
  "language_info": {
   "codemirror_mode": {
    "name": "ipython",
    "version": 3
   },
   "file_extension": ".py",
   "mimetype": "text/x-python",
   "name": "python",
   "nbconvert_exporter": "python",
   "pygments_lexer": "ipython3",
   "version": "3.9.7"
  }
 },
 "nbformat": 4,
 "nbformat_minor": 5
}
